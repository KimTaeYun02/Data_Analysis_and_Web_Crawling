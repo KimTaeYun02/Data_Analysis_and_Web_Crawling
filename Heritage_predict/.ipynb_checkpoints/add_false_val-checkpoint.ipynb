{
 "cells": [
  {
   "cell_type": "markdown",
   "metadata": {},
   "source": [
    "# 데이터 전처리\n",
    "---\n",
    "* pandas 활용\n",
    "* 0거제시\n",
    "1경주시\n",
    "2고령군\n",
    "3남해군\n",
    "4대구광역시\n",
    "5문경시\n",
    "6부산광역시\n",
    "7안동시\n",
    "8양산시\n",
    "9영양군\n",
    "10영주시\n",
    "11영천시\n",
    "12울산광역시\n",
    "13울진군\n",
    "14의령군\n",
    "15의성군\n",
    "16창녕군\n",
    "17창원시\n",
    "18청송군\n",
    "19칠곡군\n",
    "20포항시\n",
    "21함안군"
   ]
  },
  {
   "cell_type": "code",
   "execution_count": 2,
   "metadata": {},
   "outputs": [],
   "source": [
    "import pandas as pd"
   ]
  },
  {
   "cell_type": "markdown",
   "metadata": {},
   "source": [
    "#### csv파일 체크"
   ]
  },
  {
   "cell_type": "code",
   "execution_count": 4,
   "metadata": {},
   "outputs": [
    {
     "name": "stdout",
     "output_type": "stream",
     "text": [
      "<class 'pandas.core.frame.DataFrame'>\n",
      "RangeIndex: 1211 entries, 0 to 1210\n",
      "Data columns (total 7 columns):\n",
      " #   Column         Non-Null Count  Dtype  \n",
      "---  ------         --------------  -----  \n",
      " 0   Region         1211 non-null   int64  \n",
      " 1   Heritage_True  1211 non-null   int64  \n",
      " 2   Heritage_Type  1211 non-null   int64  \n",
      " 3   Period         1211 non-null   int64  \n",
      " 4   Latitude       1211 non-null   float64\n",
      " 5   Longitude      1211 non-null   float64\n",
      " 6   Heritage_Name  1211 non-null   object \n",
      "dtypes: float64(2), int64(4), object(1)\n",
      "memory usage: 66.4+ KB\n"
     ]
    }
   ],
   "source": [
    "heritage_pre = pd.read_csv('heritage.csv', thousands =',', encoding='utf-8')\n",
    "heritage_pre.info()"
   ]
  },
  {
   "cell_type": "markdown",
   "metadata": {},
   "source": [
    "#### heritage.csv head 체크"
   ]
  },
  {
   "cell_type": "code",
   "execution_count": 3,
   "metadata": {},
   "outputs": [
    {
     "data": {
      "text/html": [
       "<div>\n",
       "<style scoped>\n",
       "    .dataframe tbody tr th:only-of-type {\n",
       "        vertical-align: middle;\n",
       "    }\n",
       "\n",
       "    .dataframe tbody tr th {\n",
       "        vertical-align: top;\n",
       "    }\n",
       "\n",
       "    .dataframe thead th {\n",
       "        text-align: right;\n",
       "    }\n",
       "</style>\n",
       "<table border=\"1\" class=\"dataframe\">\n",
       "  <thead>\n",
       "    <tr style=\"text-align: right;\">\n",
       "      <th></th>\n",
       "      <th>Region</th>\n",
       "      <th>Heritage_True</th>\n",
       "      <th>Heritage_Type</th>\n",
       "      <th>Period</th>\n",
       "      <th>Latitude</th>\n",
       "      <th>Longitude</th>\n",
       "      <th>Heritage_Name</th>\n",
       "    </tr>\n",
       "  </thead>\n",
       "  <tbody>\n",
       "    <tr>\n",
       "      <th>0</th>\n",
       "      <td>1</td>\n",
       "      <td>2</td>\n",
       "      <td>1</td>\n",
       "      <td>1</td>\n",
       "      <td>34.858397</td>\n",
       "      <td>128.478264</td>\n",
       "      <td>학산 영등포 지석묘(鶴山 永登蒲 支石墓)</td>\n",
       "    </tr>\n",
       "    <tr>\n",
       "      <th>1</th>\n",
       "      <td>1</td>\n",
       "      <td>2</td>\n",
       "      <td>1</td>\n",
       "      <td>1</td>\n",
       "      <td>34.953478</td>\n",
       "      <td>128.653923</td>\n",
       "      <td>하청리 지석묘(河淸里 支石墓)</td>\n",
       "    </tr>\n",
       "    <tr>\n",
       "      <th>2</th>\n",
       "      <td>1</td>\n",
       "      <td>2</td>\n",
       "      <td>1</td>\n",
       "      <td>1</td>\n",
       "      <td>34.935033</td>\n",
       "      <td>128.656836</td>\n",
       "      <td>중리 지석묘(中里 支石墓)</td>\n",
       "    </tr>\n",
       "    <tr>\n",
       "      <th>3</th>\n",
       "      <td>1</td>\n",
       "      <td>2</td>\n",
       "      <td>1</td>\n",
       "      <td>2</td>\n",
       "      <td>34.914594</td>\n",
       "      <td>128.656524</td>\n",
       "      <td>죽토삼거리 고분군(竹土三距離 古墳群)</td>\n",
       "    </tr>\n",
       "    <tr>\n",
       "      <th>4</th>\n",
       "      <td>1</td>\n",
       "      <td>2</td>\n",
       "      <td>1</td>\n",
       "      <td>2</td>\n",
       "      <td>34.853696</td>\n",
       "      <td>128.570539</td>\n",
       "      <td>외간리 고분군(外看里 古墳群)</td>\n",
       "    </tr>\n",
       "  </tbody>\n",
       "</table>\n",
       "</div>"
      ],
      "text/plain": [
       "   Region  Heritage_True  Heritage_Type  Period   Latitude   Longitude  \\\n",
       "0       1              2              1       1  34.858397  128.478264   \n",
       "1       1              2              1       1  34.953478  128.653923   \n",
       "2       1              2              1       1  34.935033  128.656836   \n",
       "3       1              2              1       2  34.914594  128.656524   \n",
       "4       1              2              1       2  34.853696  128.570539   \n",
       "\n",
       "            Heritage_Name  \n",
       "0  학산 영등포 지석묘(鶴山 永登蒲 支石墓)  \n",
       "1        하청리 지석묘(河淸里 支石墓)  \n",
       "2          중리 지석묘(中里 支石墓)  \n",
       "3    죽토삼거리 고분군(竹土三距離 古墳群)  \n",
       "4        외간리 고분군(外看里 古墳群)  "
      ]
     },
     "execution_count": 3,
     "metadata": {},
     "output_type": "execute_result"
    }
   ],
   "source": [
    "heritage_pre.head()"
   ]
  },
  {
   "cell_type": "markdown",
   "metadata": {},
   "source": [
    "#### NaN 값 제거 및 필요없는 칼럼 삭제\n",
    "* heritage 는 null 값제거 전\n",
    "* heritage_1 은 null 값제거 후\n",
    "* Heritage_Name 칼럼은 필요없으므로 삭제"
   ]
  },
  {
   "cell_type": "code",
   "execution_count": 4,
   "metadata": {},
   "outputs": [],
   "source": [
    "heritage = heritage_pre.drop(['Heritage_Name'], axis=1, inplace=True)"
   ]
  },
  {
   "cell_type": "code",
   "execution_count": 5,
   "metadata": {},
   "outputs": [
    {
     "data": {
      "text/html": [
       "<div>\n",
       "<style scoped>\n",
       "    .dataframe tbody tr th:only-of-type {\n",
       "        vertical-align: middle;\n",
       "    }\n",
       "\n",
       "    .dataframe tbody tr th {\n",
       "        vertical-align: top;\n",
       "    }\n",
       "\n",
       "    .dataframe thead th {\n",
       "        text-align: right;\n",
       "    }\n",
       "</style>\n",
       "<table border=\"1\" class=\"dataframe\">\n",
       "  <thead>\n",
       "    <tr style=\"text-align: right;\">\n",
       "      <th></th>\n",
       "      <th>Region</th>\n",
       "      <th>Heritage_True</th>\n",
       "      <th>Heritage_Type</th>\n",
       "      <th>Period</th>\n",
       "      <th>Latitude</th>\n",
       "      <th>Longitude</th>\n",
       "    </tr>\n",
       "  </thead>\n",
       "  <tbody>\n",
       "    <tr>\n",
       "      <th>0</th>\n",
       "      <td>1</td>\n",
       "      <td>2</td>\n",
       "      <td>1</td>\n",
       "      <td>1</td>\n",
       "      <td>34.858397</td>\n",
       "      <td>128.478264</td>\n",
       "    </tr>\n",
       "    <tr>\n",
       "      <th>1</th>\n",
       "      <td>1</td>\n",
       "      <td>2</td>\n",
       "      <td>1</td>\n",
       "      <td>1</td>\n",
       "      <td>34.953478</td>\n",
       "      <td>128.653923</td>\n",
       "    </tr>\n",
       "    <tr>\n",
       "      <th>2</th>\n",
       "      <td>1</td>\n",
       "      <td>2</td>\n",
       "      <td>1</td>\n",
       "      <td>1</td>\n",
       "      <td>34.935033</td>\n",
       "      <td>128.656836</td>\n",
       "    </tr>\n",
       "    <tr>\n",
       "      <th>3</th>\n",
       "      <td>1</td>\n",
       "      <td>2</td>\n",
       "      <td>1</td>\n",
       "      <td>2</td>\n",
       "      <td>34.914594</td>\n",
       "      <td>128.656524</td>\n",
       "    </tr>\n",
       "    <tr>\n",
       "      <th>4</th>\n",
       "      <td>1</td>\n",
       "      <td>2</td>\n",
       "      <td>1</td>\n",
       "      <td>2</td>\n",
       "      <td>34.853696</td>\n",
       "      <td>128.570539</td>\n",
       "    </tr>\n",
       "  </tbody>\n",
       "</table>\n",
       "</div>"
      ],
      "text/plain": [
       "   Region  Heritage_True  Heritage_Type  Period   Latitude   Longitude\n",
       "0       1              2              1       1  34.858397  128.478264\n",
       "1       1              2              1       1  34.953478  128.653923\n",
       "2       1              2              1       1  34.935033  128.656836\n",
       "3       1              2              1       2  34.914594  128.656524\n",
       "4       1              2              1       2  34.853696  128.570539"
      ]
     },
     "execution_count": 5,
     "metadata": {},
     "output_type": "execute_result"
    }
   ],
   "source": [
    "heritage_pre.head()"
   ]
  },
  {
   "cell_type": "markdown",
   "metadata": {},
   "source": [
    "#### false 값 추가전 위도 경도 추출 전 변수 추가\n",
    "* false_cnt는 지역 마다 뽑아야하는 false 갯수\n",
    "* false_list는 파일 경로"
   ]
  },
  {
   "cell_type": "code",
   "execution_count": 1,
   "metadata": {},
   "outputs": [],
   "source": [
    "# flase값 추가 개수, 지역마다 false 개수가 다르기 때문에 이를 저장한 list\n",
    "#0거제시 1경주시 2고령군 3남해군 4대구광역시 \n",
    "#5문경시 6부산광역시 7안동시 8양산시 9영양군 \n",
    "#10영주시 11영천시 12울산광역시 13울진군 14의령군\n",
    "#15의성군 16창녕군 17창원시 18청송군 19칠곡군 \n",
    "#20포항시 21함안군\n",
    "false_cnt = [12, 56, 22, 33, 47,\n",
    "             53, 21, 89, 45, 48, \n",
    "             39, 54, 86, 58, 45,\n",
    "             69, 49, 69, 49, 26,\n",
    "             66, 39]\n",
    "false_list = ['0', '1', '2', '3', '4',\n",
    "             '5', '6', '7', '8', '9',\n",
    "             '10', '11', '12', '13', '14',\n",
    "             '15', '16', '17', '18', '19',\n",
    "             '20', '21']\n",
    "for i in range(22):\n",
    "    k=0\n",
    "    #파일 경로\n",
    "    false_list[i] = 'false_data/' + false_list[i] + '.csv'"
   ]
  },
  {
   "cell_type": "markdown",
   "metadata": {},
   "source": [
    "#### 주소를 통해 위도, 경도를 추출하는 함수"
   ]
  },
  {
   "cell_type": "code",
   "execution_count": 7,
   "metadata": {},
   "outputs": [],
   "source": [
    "#좌표 뽑는 함수\n",
    "from selenium import webdriver\n",
    "from selenium.webdriver.common.keys import Keys\n",
    "import requests\n",
    "from bs4 import BeautifulSoup\n",
    "\n",
    "from selenium import webdriver\n",
    "from selenium.webdriver.common.keys import Keys\n",
    "import requests\n",
    "from bs4 import BeautifulSoup\n",
    "\n",
    "def address_to_location (address):\n",
    "    #driver = webdriver.Chrome(\"크롬 드라이버 경로\")\n",
    "    driver = webdriver.Chrome('C:/testAI/chromedriver.exe')\n",
    "\n",
    "    #driver.get(\"사이트 주소\")\n",
    "    driver.get('https://geocode.xyz/?region=Asia')\n",
    "    \n",
    "    #검색창에 address값을 보내줌\n",
    "    search_box = driver.find_element_by_name(\"locate\" )\n",
    "    search_box.send_keys(address)\n",
    "\n",
    "    #address로 검색하고 그 사이트의 html을 가져옴\n",
    "    search_box.send_keys(Keys.RETURN)\n",
    "    html = driver.page_source\n",
    "    \n",
    "    #드라이버 종료\n",
    "    driver.close()\n",
    "    \n",
    "    #위도 경도를 담고있는 태그 선택\n",
    "    location_html = BeautifulSoup(html, 'html.parser')\n",
    "    tag = location_html.select('#bg-text > small > a')\n",
    "\n",
    "    #태그들을 list로 가져오기 때문에 for문 이용\n",
    "    for tags in tag:\n",
    "        location = tags.text\n",
    "    \n",
    "    #위도 경도는 ,로 나누어진 한 문장이기에 ,로 다시 나누어줌    \n",
    "    latitude_longitude = location.split(',')\n",
    "    latitude = latitude_longitude[0]\n",
    "    longitude = latitude_longitude[1]\n",
    "    \n",
    "    #튜플로 반환\n",
    "    return latitude[1:], longitude[:-1]\n"
   ]
  },
  {
   "cell_type": "markdown",
   "metadata": {},
   "source": [
    "#### 경도 위도를 원본 데이터에 추가\n",
    "* 도로명 주소가 잘못된 경우는 try-except를 통해 예외 처리\n",
    "* 오류가 발생한경우 error를 출력해 알려줌"
   ]
  },
  {
   "cell_type": "code",
   "execution_count": null,
   "metadata": {},
   "outputs": [],
   "source": [
    "error = 0\n",
    "for i in range(22):\n",
    "    false_data = pd.read_csv(false_list[i], sep = ',', encoding = 'utf-8', error_bad_lines=False)\n",
    "    \n",
    "    for j in range(false_cnt[i]):\n",
    "        try:\n",
    "            lati, longi = address_to_location(false_data['소재지'][j])\n",
    "            heritage_pre = heritage_pre.append({'Region': i, 'Heritage_True' : 0, 'Heritage_Type' : 0,\n",
    "                                    'Period' : 0, 'Latitude' : lati, 'Longitude' : longi}, ignore_index=True)\n",
    "        except:\n",
    "            error = error + 1\n",
    "    \n",
    "    print(i, \"지역에 추가하지 못한 위도, 경도 갯수:\", error)\n",
    "    error = 0\n",
    "    "
   ]
  },
  {
   "cell_type": "markdown",
   "metadata": {},
   "source": [
    "#### csv파일로 저장"
   ]
  },
  {
   "cell_type": "code",
   "execution_count": 53,
   "metadata": {},
   "outputs": [
    {
     "name": "stdout",
     "output_type": "stream",
     "text": [
      "      Region  Heritage_True  Heritage_Type  Period  Latitude  Longitude  \\\n",
      "0          1              2              1       1   34.8584    128.478   \n",
      "1          1              2              1       1   34.9535    128.654   \n",
      "2          1              2              1       1    34.935    128.657   \n",
      "3          1              2              1       2   34.9146    128.657   \n",
      "4          1              2              1       2   34.8537    128.571   \n",
      "...      ...            ...            ...     ...       ...        ...   \n",
      "1270       7              0              0       0  36.56587  128.69870   \n",
      "1271       7              0              0       0  36.56587  128.69870   \n",
      "1272       7              0              0       0  36.52271  128.68908   \n",
      "1273       7              0              0       0  36.56386  128.70117   \n",
      "1274       7              0              0       0  36.57724  128.49710   \n",
      "\n",
      "               Heritage_Name  \n",
      "0     학산 영등포 지석묘(鶴山 永登蒲 支石墓)  \n",
      "1           하청리 지석묘(河淸里 支石墓)  \n",
      "2             중리 지석묘(中里 支石墓)  \n",
      "3       죽토삼거리 고분군(竹土三距離 古墳群)  \n",
      "4           외간리 고분군(外看里 古墳群)  \n",
      "...                      ...  \n",
      "1270                     NaN  \n",
      "1271                     NaN  \n",
      "1272                     NaN  \n",
      "1273                     NaN  \n",
      "1274                     NaN  \n",
      "\n",
      "[1275 rows x 7 columns]\n"
     ]
    }
   ],
   "source": [
    "heritage_pre.to_csv('heritage_preprocessing', sep = ',')"
   ]
  },
  {
   "cell_type": "code",
   "execution_count": 52,
   "metadata": {},
   "outputs": [],
   "source": []
  },
  {
   "cell_type": "code",
   "execution_count": null,
   "metadata": {},
   "outputs": [],
   "source": []
  },
  {
   "cell_type": "code",
   "execution_count": 10,
   "metadata": {},
   "outputs": [
    {
     "name": "stdout",
     "output_type": "stream",
     "text": [
      "0 지역 error 개수: 0\n"
     ]
    }
   ],
   "source": []
  },
  {
   "cell_type": "code",
   "execution_count": null,
   "metadata": {},
   "outputs": [],
   "source": []
  }
 ],
 "metadata": {
  "kernelspec": {
   "display_name": "Python 3",
   "language": "python",
   "name": "python3"
  },
  "language_info": {
   "codemirror_mode": {
    "name": "ipython",
    "version": 3
   },
   "file_extension": ".py",
   "mimetype": "text/x-python",
   "name": "python",
   "nbconvert_exporter": "python",
   "pygments_lexer": "ipython3",
   "version": "3.8.8"
  }
 },
 "nbformat": 4,
 "nbformat_minor": 4
}
