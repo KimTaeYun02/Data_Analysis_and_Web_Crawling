{
 "cells": [
  {
   "cell_type": "markdown",
   "metadata": {},
   "source": [
    "# 도로명 주소를 위도 경도 값으로 반환\n",
    "---\n",
    "* 사용하는 크롬 버전에 맞는 웹 크롤러 및 selenium, requests, BeautifulSoup 라이브러리 필요\n",
    "* 크롬 버전 확인은 오른쪽 상단 점 3개 -> 도움말 -> Chrome 정보\n",
    "* https://chromedriver.chromium.org/downloads 에서 다운로드"
   ]
  },
  {
   "cell_type": "code",
   "execution_count": 1,
   "metadata": {},
   "outputs": [],
   "source": [
    "from selenium import webdriver\n",
    "from selenium.webdriver.common.keys import Keys\n",
    "import requests\n",
    "from bs4 import BeautifulSoup"
   ]
  },
  {
   "cell_type": "markdown",
   "metadata": {},
   "source": [
    "### selenium을 통한 동적 웹크롤링\n",
    "---\n",
    "* 원격으로 검색하는데 이용\n",
    "* 사이트의 html을 가져오는 것이 목표"
   ]
  },
  {
   "cell_type": "code",
   "execution_count": 2,
   "metadata": {},
   "outputs": [],
   "source": [
    "#driver = webdriver.Chrome(\"크롬 드라이버 경로\")\n",
    "driver = webdriver.Chrome('C:/testAI/chromedriver.exe')\n",
    "\n",
    "#driver.get(\"사이트 주소\")\n",
    "driver.get('https://geocode.xyz/?region=Asia')\n",
    "\n",
    "#도로명 주소\n",
    "address = '경상남도 거제시 연초면 죽토로 11'\n",
    "\n",
    "#검색창에 address값을 보내줌\n",
    "search_box = driver.find_element_by_name(\"locate\" )\n",
    "search_box.send_keys(address)\n",
    "\n",
    "#address로 검색하고 그 사이트의 html을 가져옴\n",
    "search_box.send_keys(Keys.RETURN)\n",
    "html = driver.page_source"
   ]
  },
  {
   "cell_type": "markdown",
   "metadata": {},
   "source": [
    "### bs4를 통한 정적 웹크롤링\n",
    "---\n",
    "* selenium을 통해 가져온 html을 기반으로 함\n",
    "* 위도와 경도값을 가져오는 것이 목표"
   ]
  },
  {
   "cell_type": "code",
   "execution_count": 3,
   "metadata": {},
   "outputs": [
    {
     "name": "stdout",
     "output_type": "stream",
     "text": [
      "34.91364\n",
      "128.66055\n"
     ]
    }
   ],
   "source": [
    "location_html = BeautifulSoup(html, 'html.parser')\n",
    "tag = location_html.select('#bg-text > small > a')\n",
    "\n",
    "#태그들을 list로 가져오기 때문에 for문 이용\n",
    "for tags in tag:\n",
    "    location = tags.text\n",
    "    \n",
    "#위도 경도는 ,로 나누어진 한 문장이기에 ,로 다시 나누어줌    \n",
    "latitude_longitude = location.split(',')\n",
    "latitude = latitude_longitude[0]\n",
    "longitude = latitude_longitude[1]\n",
    "\n",
    "#위도 경도에 \\n이 포함되어 있어서 이를 slice해줌.\n",
    "print(latitude[1:])\n",
    "print(longitude[:-1])\n"
   ]
  },
  {
   "cell_type": "markdown",
   "metadata": {},
   "source": [
    "### 함수로 표현\n",
    "---\n",
    "* 도로명 주소를 입력받음\n",
    "* 위도 경도를 리턴함"
   ]
  },
  {
   "cell_type": "code",
   "execution_count": 4,
   "metadata": {},
   "outputs": [
    {
     "name": "stdout",
     "output_type": "stream",
     "text": [
      "위도: 34.91364\n",
      "경도: 128.66055\n"
     ]
    }
   ],
   "source": [
    "from selenium import webdriver\n",
    "from selenium.webdriver.common.keys import Keys\n",
    "import requests\n",
    "from bs4 import BeautifulSoup\n",
    "\n",
    "def address_to_location (address):\n",
    "    #driver = webdriver.Chrome(\"크롬 드라이버 경로\")\n",
    "    driver = webdriver.Chrome('C:/testAI/chromedriver.exe')\n",
    "\n",
    "    #driver.get(\"사이트 주소\")\n",
    "    driver.get('https://geocode.xyz/?region=Asia')\n",
    "    \n",
    "    #검색창에 address값을 보내줌\n",
    "    search_box = driver.find_element_by_name(\"locate\" )\n",
    "    search_box.send_keys(address)\n",
    "\n",
    "    #address로 검색하고 그 사이트의 html을 가져옴\n",
    "    search_box.send_keys(Keys.RETURN)\n",
    "    html = driver.page_source\n",
    "    \n",
    "    #드라이버 종료\n",
    "    driver.close()\n",
    "    \n",
    "    #위도 경도를 담고있는 태그 선택\n",
    "    location_html = BeautifulSoup(html, 'html.parser')\n",
    "    tag = location_html.select('#bg-text > small > a')\n",
    "\n",
    "    #태그들을 list로 가져오기 때문에 for문 이용\n",
    "    for tags in tag:\n",
    "        location = tags.text\n",
    "    \n",
    "    #위도 경도는 ,로 나누어진 한 문장이기에 ,로 다시 나누어줌    \n",
    "    latitude_longitude = location.split(',')\n",
    "    latitude = latitude_longitude[0]\n",
    "    longitude = latitude_longitude[1]\n",
    "    \n",
    "    #튜플로 반환\n",
    "    return latitude[1:], longitude[:-1]\n",
    "\n",
    "#unpack\n",
    "latitude, longitude= address_to_location('경상남도 거제시 연초면 죽토로 11')\n",
    "print(\"위도: \" + str(latitude))\n",
    "print(\"경도: \" + str(longitude))"
   ]
  },
  {
   "cell_type": "markdown",
   "metadata": {},
   "source": [
    "### 사용 예시"
   ]
  },
  {
   "cell_type": "code",
   "execution_count": 8,
   "metadata": {},
   "outputs": [
    {
     "name": "stdout",
     "output_type": "stream",
     "text": [
      "['34.91364', '34.95274']\n",
      "['128.66055', '128.68683']\n"
     ]
    }
   ],
   "source": [
    "#address 만 바꾸어주면 됨\n",
    "address_list = ['경상남도 거제시 연초면 죽토로 11', '경상남도 거제시 연초면 대금산로 4']\n",
    "latitude = []\n",
    "longitude = []\n",
    "\n",
    "for i in range(len(address_list)):\n",
    "    temp_lati, temp_longi = address_to_location(address_list[i])\n",
    "    \n",
    "    #이때 append로 값이 추가되기 때문에 값이 계속 쌓임\n",
    "    #이전 데이터를 지우고 새로 위도 경도를 받고싶으면 latitude와 longitude를 초기화 해주어야 함\n",
    "    latitude.append(temp_lati)\n",
    "    longitude.append(temp_longi)\n",
    "    \n",
    "print(latitude)\n",
    "print(longitude)\n",
    "    "
   ]
  },
  {
   "cell_type": "markdown",
   "metadata": {},
   "source": [
    "#### 'https://geocode.xyz' 활용  "
   ]
  }
 ],
 "metadata": {
  "kernelspec": {
   "display_name": "Python 3",
   "language": "python",
   "name": "python3"
  },
  "language_info": {
   "codemirror_mode": {
    "name": "ipython",
    "version": 3
   },
   "file_extension": ".py",
   "mimetype": "text/x-python",
   "name": "python",
   "nbconvert_exporter": "python",
   "pygments_lexer": "ipython3",
   "version": "3.7.7"
  }
 },
 "nbformat": 4,
 "nbformat_minor": 4
}
